{
 "cells": [
  {
   "cell_type": "code",
   "execution_count": 4,
   "metadata": {},
   "outputs": [
    {
     "name": "stdout",
     "output_type": "stream",
     "text": [
      "Asian Call Option Price: 3.4906767517660064\n",
      "Lookback Call Option Price: 13.835909395317247\n"
     ]
    }
   ],
   "source": [
    "import sys\n",
    "sys.path.append('/Users/baobach/Option-Pricing-Helper')\n",
    "from src.exotics import AsianOptionPricer\n",
    "from src.exotics import LookbackOptionPricer\n",
    "# Usage:\n",
    "asian = AsianOptionPricer(S0=100, strike=105, risk_free_rate=0.05, volatility=0.2,\n",
    "                           maturity=1, num_steps=100, num_simulations=10000, option_type='C')\n",
    "asian_call = asian.calculate_price()\n",
    "print(f\"Asian Call Option Price: {asian_call}\")\n",
    "\n",
    "lookback = LookbackOptionPricer(S0=100, strike=105, risk_free_rate=0.05, volatility=0.2,\n",
    "                           maturity=1, num_steps=100, num_simulations=10000, option_type='C')\n",
    "lookback_call = lookback.calculate_price()\n",
    "print(f\"Lookback Call Option Price: {lookback_call}\")\n"
   ]
  },
  {
   "cell_type": "code",
   "execution_count": null,
   "metadata": {},
   "outputs": [],
   "source": []
  }
 ],
 "metadata": {
  "kernelspec": {
   "display_name": "pythonlab",
   "language": "python",
   "name": "python3"
  },
  "language_info": {
   "codemirror_mode": {
    "name": "ipython",
    "version": 3
   },
   "file_extension": ".py",
   "mimetype": "text/x-python",
   "name": "python",
   "nbconvert_exporter": "python",
   "pygments_lexer": "ipython3",
   "version": "3.10.12"
  }
 },
 "nbformat": 4,
 "nbformat_minor": 2
}
